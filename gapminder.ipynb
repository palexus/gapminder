{
 "cells": [
  {
   "cell_type": "markdown",
   "id": "e3a29bd0-a44f-4855-a131-f745d9de8c67",
   "metadata": {
    "tags": []
   },
   "source": [
    "# Gapminder project\n",
    "\n",
    "This is just a very small project to learn some very basics of pandas and to visualize the gapminder dataset.\n",
    "\n",
    "First of all import pandas"
   ]
  },
  {
   "cell_type": "code",
   "execution_count": null,
   "id": "803f9005-4495-4cb7-bee9-aa68d38306e1",
   "metadata": {},
   "outputs": [],
   "source": [
    "#!pip install pandas"
   ]
  },
  {
   "cell_type": "code",
   "execution_count": null,
   "id": "cbf5a2dd-44a8-4427-9cae-6b02789300ae",
   "metadata": {},
   "outputs": [],
   "source": [
    "import pandas as pd"
   ]
  },
  {
   "cell_type": "markdown",
   "id": "d9663728-4260-4ea4-954e-7879e1e5fc4f",
   "metadata": {},
   "source": [
    "Read in the data for fertility and lifeexpectancy."
   ]
  },
  {
   "cell_type": "code",
   "execution_count": null,
   "id": "cb335ce7-cbb0-43af-99c8-37c7300468cc",
   "metadata": {},
   "outputs": [],
   "source": [
    "fert = pd.read_csv('data/gapminder_total_fertility.csv', index_col=0)\n",
    "life = pd.read_excel('data/gapminder_lifeexpectancy.xlsx', index_col=0)\n",
    "pop  = pd.read_excel('data/gapminder_population.xlsx', index_col=0)"
   ]
  },
  {
   "cell_type": "code",
   "execution_count": null,
   "id": "49a05660-4d8b-4611-bf00-0e7127b582e5",
   "metadata": {
    "tags": []
   },
   "outputs": [],
   "source": [
    "fert.head()"
   ]
  },
  {
   "cell_type": "code",
   "execution_count": null,
   "id": "1e04a4bb-c033-4dd8-8496-8d7135841643",
   "metadata": {},
   "outputs": [],
   "source": [
    "life.head()"
   ]
  },
  {
   "cell_type": "code",
   "execution_count": null,
   "id": "61b1b4ae-5ada-42ee-85aa-03d09c968be3",
   "metadata": {},
   "outputs": [],
   "source": [
    "pop.head()"
   ]
  },
  {
   "cell_type": "markdown",
   "id": "9698ae1d-284c-4626-9951-c48ab3c8de9c",
   "metadata": {},
   "source": [
    "To merge the data, one needs information about the shape."
   ]
  },
  {
   "cell_type": "code",
   "execution_count": null,
   "id": "12f837e1-c7cc-44fe-99b8-9c28a2f4e2d1",
   "metadata": {},
   "outputs": [],
   "source": [
    "print(\"life shape: \", life.shape)\n",
    "print(\"fert shape: \", fert.shape)\n",
    "print(\"pop shape: \", pop.shape)"
   ]
  },
  {
   "cell_type": "markdown",
   "id": "124b11e0-5e9a-4260-bf05-39266c7cdd74",
   "metadata": {},
   "source": [
    "Drop now all columns and rows which have only NaN values."
   ]
  },
  {
   "cell_type": "code",
   "execution_count": null,
   "id": "753a9e5e-e433-4baa-94c1-d69a186d4cb2",
   "metadata": {},
   "outputs": [],
   "source": [
    "for i in range(2):\n",
    "    pop.dropna(axis=i, how=\"all\", inplace=True)\n",
    "    fert.dropna(axis=i, how=\"all\", inplace=True)\n",
    "    life.dropna(axis=i, how=\"all\", inplace=True)\n",
    "print(\"life shape: \", life.shape)\n",
    "print(\"fert shape: \", fert.shape)\n",
    "print(\"pop shape: \", pop.shape)"
   ]
  },
  {
   "cell_type": "markdown",
   "id": "7a573a94-a22c-4e96-b543-84b17e76a341",
   "metadata": {},
   "source": [
    "Now check the datatype of the columns and convert them if neccessary."
   ]
  },
  {
   "cell_type": "code",
   "execution_count": null,
   "id": "7a49ca8c-8770-4165-8e10-1a0949c039f3",
   "metadata": {},
   "outputs": [],
   "source": [
    "print(\"life columns: \", life.columns)\n",
    "print(\"fert columns: \", fert.columns)\n",
    "print(\"pop columns: \", pop.columns)"
   ]
  },
  {
   "cell_type": "markdown",
   "id": "edee756a-7cb4-4d10-bdfa-8caced9b69c8",
   "metadata": {},
   "source": [
    "Therefore, we will remove all \"str\" columns, since they have no values inside."
   ]
  },
  {
   "cell_type": "code",
   "execution_count": null,
   "id": "2907603a-961c-408e-a42f-19826103eb1c",
   "metadata": {},
   "outputs": [],
   "source": [
    "fert.columns = fert.columns.astype(int)\n",
    "pop.columns = pop.columns.astype(int)"
   ]
  },
  {
   "cell_type": "code",
   "execution_count": null,
   "id": "340e4b17-bd24-40d9-809a-bf70231fcf5d",
   "metadata": {},
   "outputs": [],
   "source": [
    "fert.index.name = 'country'\n",
    "life.index.name = 'country'\n",
    "pop.index.name = 'country'"
   ]
  },
  {
   "cell_type": "code",
   "execution_count": null,
   "id": "1fb82fc8-4c45-4930-9a02-5d1221fe3140",
   "metadata": {},
   "outputs": [],
   "source": [
    "fert.head()"
   ]
  },
  {
   "cell_type": "code",
   "execution_count": null,
   "id": "e82d51d6-780b-473c-a9ac-06d9206910fd",
   "metadata": {},
   "outputs": [],
   "source": [
    "fert = fert.reset_index()\n",
    "life = life.reset_index()\n",
    "pop = pop.reset_index()"
   ]
  },
  {
   "cell_type": "code",
   "execution_count": null,
   "id": "930a1362-97c6-4038-a904-377b106e8ca5",
   "metadata": {},
   "outputs": [],
   "source": [
    "fert.head()"
   ]
  },
  {
   "cell_type": "code",
   "execution_count": null,
   "id": "f3833da4-995b-4970-ba89-13fde176a151",
   "metadata": {},
   "outputs": [],
   "source": [
    "fert = fert.melt(id_vars='country', var_name='year', value_name='fertility_rate')\n",
    "pop  = pop.melt(id_vars='country', var_name='year', value_name='total_population')\n",
    "life = life.melt(id_vars='country', var_name='year', value_name='life_expectancy')"
   ]
  },
  {
   "cell_type": "code",
   "execution_count": null,
   "id": "5a769f2e-5f3b-4cc2-ac31-5f38722d198e",
   "metadata": {},
   "outputs": [],
   "source": [
    "df = fert.merge(pop)"
   ]
  },
  {
   "cell_type": "code",
   "execution_count": null,
   "id": "005d5f6d-6536-4fae-8428-39ade1c3d23b",
   "metadata": {},
   "outputs": [],
   "source": [
    "df = df.merge(life)"
   ]
  },
  {
   "cell_type": "code",
   "execution_count": null,
   "id": "a6422209-b15f-4467-aea6-e9319b08035d",
   "metadata": {},
   "outputs": [],
   "source": [
    "df"
   ]
  },
  {
   "cell_type": "code",
   "execution_count": null,
   "id": "c7e21bfe-972c-497c-b225-32becdbc67ee",
   "metadata": {},
   "outputs": [],
   "source": [
    "import seaborn as sns\n",
    "import matplotlib.pyplot as plt\n",
    "\n",
    "plt.style.use('ggplot')"
   ]
  },
  {
   "cell_type": "code",
   "execution_count": null,
   "id": "49675cce-4b2b-4840-b2b3-fa04568b85c3",
   "metadata": {},
   "outputs": [],
   "source": [
    "df_subset = df.loc[df['year'] == 2000]\n",
    "sns.scatterplot(x='life_expectancy', y='fertility_rate',\n",
    "            data=df_subset, alpha=0.6)"
   ]
  },
  {
   "cell_type": "code",
   "execution_count": null,
   "id": "2c309553-b5b2-40b1-86b5-4f2b8d0d29fc",
   "metadata": {},
   "outputs": [],
   "source": [
    "df_60 = df[df[\"year\"]>1959]"
   ]
  },
  {
   "cell_type": "code",
   "execution_count": null,
   "id": "79276c61-1f39-4980-b1cf-60bfd36b311a",
   "metadata": {},
   "outputs": [],
   "source": [
    "g = df_60.groupby(\"year\")"
   ]
  },
  {
   "cell_type": "markdown",
   "id": "61f0a5c7-2e71-49cc-a393-3542027d0dbf",
   "metadata": {},
   "source": [
    "## Create images for every year in Matplotlib and make GIF"
   ]
  },
  {
   "cell_type": "code",
   "execution_count": null,
   "id": "939b0c28-7167-4dd2-b0d9-d74d304ad9c2",
   "metadata": {},
   "outputs": [],
   "source": [
    "for year, data in g:\n",
    "    plt.figure(figsize=(12,6))\n",
    "    plt.xlabel(\"Life expectancy\")\n",
    "    plt.ylabel(\"Fertility rate\")\n",
    "    plt.axis((25, 90, 0.5, 9))\n",
    "    \n",
    "    tot_pop = data[\"total_population\"]\n",
    "    m = tot_pop.mean()\n",
    "    s = 100*tot_pop/m\n",
    "    \n",
    "    plt.title(year)\n",
    "    plt.scatter(x='life_expectancy', y='fertility_rate', s=s, c=data[\"country\"].index,\n",
    "            data=data, alpha=0.6)\n",
    "    \n",
    "    filename = \"plots/gap_{}.png\".format(year)\n",
    "    plt.savefig(filename)\n",
    "    plt.close()"
   ]
  },
  {
   "cell_type": "code",
   "execution_count": null,
   "id": "73c931e3-8875-45ad-9c26-55ec32d288ea",
   "metadata": {},
   "outputs": [],
   "source": [
    "#!pip install imageio"
   ]
  },
  {
   "cell_type": "code",
   "execution_count": null,
   "id": "05d28cdc-0b85-435a-b295-99c4ef5d09cf",
   "metadata": {},
   "outputs": [],
   "source": [
    "import imageio\n",
    "\n",
    "images = []\n",
    "\n",
    "for year, _ in g:\n",
    "    filename = 'plots/gap_{}.png'.format(year)\n",
    "    images.append(imageio.imread(filename))\n",
    "\n",
    "imageio.mimsave('output.gif', images, fps=8)"
   ]
  },
  {
   "cell_type": "markdown",
   "id": "71aeb000-840b-4614-96bf-fde99a78970e",
   "metadata": {
    "tags": []
   },
   "source": [
    "![SegmentLocal](output.gif \"segment\")"
   ]
  },
  {
   "cell_type": "markdown",
   "id": "fe72df2b-c488-4a43-96f5-0ce707015dcb",
   "metadata": {},
   "source": [
    "## Use Plotly for Vizualization"
   ]
  },
  {
   "cell_type": "markdown",
   "id": "786b46a4-92f4-4e76-9ec7-dd5d54685282",
   "metadata": {},
   "source": [
    "Plotly.express has many nice visualization functions. See here\n",
    "\n",
    "https://plotly.com/python/plotly-express/"
   ]
  },
  {
   "cell_type": "code",
   "execution_count": null,
   "id": "8d3abf96-64ea-4c30-8533-ef8fbb3453bf",
   "metadata": {},
   "outputs": [],
   "source": [
    "#!pip install plotly"
   ]
  },
  {
   "cell_type": "code",
   "execution_count": null,
   "id": "ffbaefe1-88dd-424d-a5f7-57abfa36cb07",
   "metadata": {},
   "outputs": [],
   "source": [
    "import plotly.express as px"
   ]
  },
  {
   "cell_type": "code",
   "execution_count": null,
   "id": "81d94e2d-6f4d-4d02-9515-474745dd48c7",
   "metadata": {},
   "outputs": [],
   "source": [
    "dF = df_60.copy()\n",
    "dF['total_population'] = df_60['total_population'].fillna(0)\n",
    "\n",
    "px.scatter(dF, x=\"life_expectancy\", y=\"fertility_rate\", animation_frame=\"year\", size=\"total_population\", size_max=60, log_x=True,\n",
    "             hover_name=\"country\", range_x=[25,90], range_y=[0.5,9])"
   ]
  },
  {
   "cell_type": "code",
   "execution_count": null,
   "id": "6287dc0e-e56f-4897-9c27-46623ea5be90",
   "metadata": {},
   "outputs": [],
   "source": []
  }
 ],
 "metadata": {
  "kernelspec": {
   "display_name": "Python 3 (ipykernel)",
   "language": "python",
   "name": "python3"
  },
  "language_info": {
   "codemirror_mode": {
    "name": "ipython",
    "version": 3
   },
   "file_extension": ".py",
   "mimetype": "text/x-python",
   "name": "python",
   "nbconvert_exporter": "python",
   "pygments_lexer": "ipython3",
   "version": "3.8.13"
  }
 },
 "nbformat": 4,
 "nbformat_minor": 5
}
